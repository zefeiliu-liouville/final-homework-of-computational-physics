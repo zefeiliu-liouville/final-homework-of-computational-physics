{
 "cells": [
  {
   "cell_type": "markdown",
   "id": "8f45ee0d",
   "metadata": {},
   "source": [
    "# Caculation of He Atom By Variational Method(Version1.0)\n",
    "# (By LI Na & LIU Ze-fei)"
   ]
  },
  {
   "cell_type": "code",
   "execution_count": 31,
   "id": "c5cb545e",
   "metadata": {},
   "outputs": [
    {
     "data": {
      "text/plain": [
       "<Figure size 504x360 with 0 Axes>"
      ]
     },
     "metadata": {},
     "output_type": "display_data"
    }
   ],
   "source": [
    "import numpy as np\n",
    "%matplotlib inline\n",
    "import matplotlib.pyplot as plt\n",
    "import matplotlib as mpl\n",
    "\n",
    "#Draw Pictures\n",
    "mpl.rcParams['mathtext.fontset'] = 'custom'\n",
    "mpl.rcParams['mathtext.rm'] = 'Times New Roman'\n",
    "mpl.rcParams['mathtext.it'] = 'Times New Roman:italic'\n",
    "mpl.rcParams['mathtext.bf'] = 'Times New Roman:bold'\n",
    "\n",
    "mpl.rc('font',family='serif',size='16')\n",
    "fig = plt.figure(1,figsize=(7,5))## To save figure.\n",
    "\n",
    "\n",
    "tableau20 = [(31, 119, 180), (174, 199, 232), (255, 127, 14), (255, 187, 120),    \n",
    "             (44, 160, 44), (152, 223, 138), (214, 39, 40), (255, 152, 150),    \n",
    "             (148, 103, 189), (197, 176, 213), (140, 86, 75), (196, 156, 148),    \n",
    "             (227, 119, 194), (247, 182, 210), (127, 127, 127), (199, 199, 199),    \n",
    "             (188, 189, 34), (219, 219, 141), (23, 190, 207), (158, 218, 229)]    \n",
    "  \n",
    "# Scale the RGB values to the [0, 1] range, which is the format matplotlib accepts.    \n",
    "for i in range(len(tableau20)):    \n",
    "    r, g, b = tableau20[i]    \n",
    "    tableau20[i] = (r / 255., g / 255., b / 255.)"
   ]
  },
  {
   "cell_type": "markdown",
   "id": "2f79ad97",
   "metadata": {},
   "source": [
    "$FC' = SC'E'$ (Generalized Eigenvalue Problem)\n",
    "\n",
    "$\\left[\n",
    "-\\frac{1}{2}\\nabla_1^2 - \\frac{2}{r_1} + C_r C_s \\int{\\rm{d}}^3 r_2 \\, e^{-\\alpha_r r_1^2} e^{-\\alpha_s r_2^2} \\frac{1}{|r_1 - r_2|}\n",
    "\\right]\\psi(\\boldsymbol{r_1}) = E' \\psi(\\boldsymbol{r_1}) \\\\ $\n",
    "(Used Born-Oppenheimer approximation)\n",
    "\n",
    "$(h_{pq} + Q_{pqrs} C_r C_s)C_q = E'S_{pq} C_q$ (Here we used Einstein Summation Convention)\n",
    "\n",
    "$\\chi_p(\\boldsymbol{r}) = e^{-\\alpha_p r^2}$\n",
    "\n",
    "$\\begin{aligned}\n",
    "\\alpha_1 & = 38.421634 \\\\\n",
    "\\alpha_2 & = 5.77803 \\\\\n",
    "\\alpha_3 & = 1.241774 \\\\\n",
    "\\alpha_4 & = 0.297964 \\\\\n",
    "\\alpha_5 & = 0.086 \\\\\n",
    "\\end{aligned}$\n",
    "\n",
    "(6-31++G)\n",
    "\n",
    "$\\begin{aligned}\n",
    "S_{pq} & = \\int {\\rm{d}}^3 r \\, e^{-\\alpha_p r^2} e^{-\\alpha_q r^2} = \\left(\\frac{\\pi}{\\alpha_p+\\alpha_q}\\right)^{3/2} \\\\\n",
    "T_{pq} & = -\\frac{1}{2}\\int{\\rm{d}}^3 r \\, e^{-\\alpha_p r^2}\\nabla^2 e^{-\\alpha_q r^2}\n",
    "= 3\\frac{\\alpha_p \\alpha_q \\pi^{3/2}}{(\\alpha_p + \\alpha_q)^{5/2}} \\\\\n",
    "A_{pq} & = -\\int{\\rm{d}}^3 r \\,  e^{-\\alpha_p r^2} \\frac{2}{r} e^{-\\alpha_q r^2} = -\\frac{4\\pi}{\\alpha_p + \\alpha_q} \\\\\n",
    "h_{pq} & = T_{pq} + A_{pq} \\\\\n",
    "\\end{aligned}$"
   ]
  },
  {
   "cell_type": "code",
   "execution_count": 32,
   "id": "b49c1b1d",
   "metadata": {},
   "outputs": [],
   "source": [
    "##########################################################\n",
    "##################### He atom. ###########################\n",
    "##########################################################\n",
    "\n",
    "def calc_S(Alpha,N_tot):\n",
    "    S = np.zeros((N_tot,N_tot))\n",
    "    for i in range(N_tot):\n",
    "        for j in range(N_tot):\n",
    "            y = np.pi/(Alpha[i]+Alpha[j])\n",
    "            S[i,j] = y*np.sqrt(y)\n",
    "            \n",
    "    return S\n",
    "def calc_T(Alpha,N_tot):\n",
    "    T = np.zeros((N_tot,N_tot))\n",
    "    for i in range(N_tot):\n",
    "        for j in range(N_tot):\n",
    "            y = 3.0E0*Alpha[i]*Alpha[j]*np.pi*np.sqrt(np.pi)\n",
    "            z = (Alpha[i]+Alpha[j])**2*np.sqrt(Alpha[i]+Alpha[j])\n",
    "            T[i,j] = y/z\n",
    "    return T\n",
    "def calc_A(Alpha,N_tot):\n",
    "    A = np.zeros((N_tot,N_tot))\n",
    "    for i in range(N_tot):\n",
    "        for j in range(N_tot):\n",
    "            A[i,j] = -4.0E0*np.pi/(Alpha[i]+Alpha[j])\n",
    "    return A\n",
    "\n",
    "def calc_H(Alpha,N_tot):\n",
    "    H = np.zeros((N_tot,N_tot))\n",
    "    T = calc_T(Alpha,N_tot)\n",
    "    A = calc_A(Alpha,N_tot)\n",
    "    H = np.add(T,A)\n",
    "    return H"
   ]
  },
  {
   "cell_type": "markdown",
   "id": "77d9fba1",
   "metadata": {},
   "source": [
    "$\\begin{aligned}\n",
    "Q_{pqrs} & = \\int{\\rm{d}}^3 r_1 \\rm{d}^3 r_2 \\, e^{-\\alpha_p r_1^2} e^{-\\alpha_q r_2^2} \\frac{1}{|r_1 - r_2|} e^{-\\alpha_r r_1^2} e^{-\\alpha_s r_2^2} = \\frac{2\\pi^\\frac{5}{2}}{(\\alpha_p + \\alpha_q)(\\alpha_r + \\alpha_s)(\\alpha_p + \\alpha_q + \\alpha_r + \\alpha_s)^\\frac{1}{2}} \\\\\n",
    "\\end{aligned}$"
   ]
  },
  {
   "cell_type": "code",
   "execution_count": 33,
   "id": "0122de00",
   "metadata": {},
   "outputs": [],
   "source": [
    "def calc_Q(Alpha,N_tot):\n",
    "    Q = np.zeros((N_tot,N_tot,N_tot,N_tot))\n",
    "    for i in range(N_tot):\n",
    "        for j in range(N_tot):\n",
    "            for k in range(N_tot):\n",
    "                for l in range(N_tot):\n",
    "                    Q[i,j,k,l] = (2*np.pi**(5/2))/((Alpha[i]+Alpha[j])*(Alpha[k]+Alpha[l])*np.sqrt(Alpha[i]+Alpha[j]+Alpha[k]+Alpha[l]))\n",
    "    return Q"
   ]
  },
  {
   "cell_type": "code",
   "execution_count": 34,
   "id": "f346ea31",
   "metadata": {},
   "outputs": [
    {
     "data": {
      "image/png": "[encoded data removed]",
      "text/plain": [
       "<Figure size 432x288 with 2 Axes>"
      ]
     },
     "metadata": {
      "needs_background": "light"
     },
     "output_type": "display_data"
    },
    {
     "data": {
      "image/png": "[encoded data removed]",
      "text/plain": [
       "<Figure size 432x288 with 2 Axes>"
      ]
     },
     "metadata": {
      "needs_background": "light"
     },
     "output_type": "display_data"
    },
    {
     "name": "stdout",
     "output_type": "stream",
     "text": [
      "[[[[4.77941909e-04 9.36289527e-04 1.06349002e-03 1.09385274e-03\n",
      "    1.10088389e-03]\n",
      "   [9.36289527e-04 4.19048781e-03 7.08253095e-03 8.22912768e-03\n",
      "    8.53750068e-03]\n",
      "   [1.06349002e-03 7.08253095e-03 2.05833606e-02 3.33995846e-02\n",
      "    3.87839234e-02]\n",
      "   [1.09385274e-03 8.22912768e-03 3.33995846e-02 8.68209717e-02\n",
      "    1.34934533e-01]\n",
      "   [1.10088389e-03 8.53750068e-03 3.87839234e-02 1.34934533e-01\n",
      "    3.01635177e-01]]\n",
      "\n",
      "  [[9.36289527e-04 1.90476876e-03 2.17926628e-03 2.24505588e-03\n",
      "    2.26030454e-03]\n",
      "   [1.90476876e-03 9.17341818e-03 1.57558991e-02 1.83733984e-02\n",
      "    1.90777907e-02]\n",
      "   [2.17926628e-03 1.57558991e-02 4.66479740e-02 7.60140094e-02\n",
      "    8.83537411e-02]\n",
      "   [2.24505588e-03 1.83733984e-02 7.60140094e-02 1.98460590e-01\n",
      "    3.08750379e-01]\n",
      "   [2.26030454e-03 1.90777907e-02 8.83537411e-02 3.08750379e-01\n",
      "    6.90882838e-01]]\n",
      "\n",
      "  [[1.06349002e-03 2.17926628e-03 2.49697740e-03 2.57319591e-03\n",
      "    2.59086548e-03]\n",
      "   [2.17926628e-03 1.06656501e-02 1.83911675e-02 2.14660468e-02\n",
      "    2.22936850e-02]\n",
      "   [2.49697740e-03 1.83911675e-02 5.47090263e-02 8.92488509e-02\n",
      "    1.03763657e-01]\n",
      "   [2.57319591e-03 2.14660468e-02 8.92488509e-02 2.33285397e-01\n",
      "    3.63025500e-01]\n",
      "   [2.59086548e-03 2.22936850e-02 1.03763657e-01 3.63025500e-01\n",
      "    8.12552757e-01]]\n",
      "\n",
      "  [[1.09385274e-03 2.24505588e-03 2.57319591e-03 2.65193320e-03\n",
      "    2.67018756e-03]\n",
      "   [2.24505588e-03 1.10277057e-02 1.90328406e-02 2.22197343e-02\n",
      "    2.30775633e-02]\n",
      "   [2.57319591e-03 1.90328406e-02 5.66808156e-02 9.24897713e-02\n",
      "    1.07538176e-01]\n",
      "   [2.65193320e-03 2.22197343e-02 9.24897713e-02 2.41823221e-01\n",
      "    3.76335485e-01]\n",
      "   [2.67018756e-03 2.30775633e-02 1.07538176e-01 3.76335485e-01\n",
      "    8.42398329e-01]]\n",
      "\n",
      "  [[1.10088389e-03 2.26030454e-03 2.59086548e-03 2.67018756e-03\n",
      "    2.68857769e-03]\n",
      "   [2.26030454e-03 1.11118561e-02 1.91821044e-02 2.23950895e-02\n",
      "    2.32599513e-02]\n",
      "   [2.59086548e-03 1.91821044e-02 5.71399773e-02 9.32446671e-02\n",
      "    1.08417415e-01]\n",
      "   [2.67018756e-03 2.23950895e-02 9.32446671e-02 2.43812457e-01\n",
      "    3.79436793e-01]\n",
      "   [2.68857769e-03 2.32599513e-02 1.08417415e-01 3.79436793e-01\n",
      "    8.49352984e-01]]]\n",
      "\n",
      "\n",
      " [[[9.36289527e-04 1.90476876e-03 2.17926628e-03 2.24505588e-03\n",
      "    2.26030454e-03]\n",
      "   [1.90476876e-03 9.17341818e-03 1.57558991e-02 1.83733984e-02\n",
      "    1.90777907e-02]\n",
      "   [2.17926628e-03 1.57558991e-02 4.66479740e-02 7.60140094e-02\n",
      "    8.83537411e-02]\n",
      "   [2.24505588e-03 1.83733984e-02 7.60140094e-02 1.98460590e-01\n",
      "    3.08750379e-01]\n",
      "   [2.26030454e-03 1.90777907e-02 8.83537411e-02 3.08750379e-01\n",
      "    6.90882838e-01]]\n",
      "\n",
      "  [[4.19048781e-03 9.17341818e-03 1.06656501e-02 1.10277057e-02\n",
      "    1.11118561e-02]\n",
      "   [9.17341818e-03 5.44960732e-02 1.00068040e-01 1.18665944e-01\n",
      "    1.23701085e-01]\n",
      "   [1.06656501e-02 1.00068040e-01 3.25345527e-01 5.43353010e-01\n",
      "    6.35255112e-01]\n",
      "   [1.10277057e-02 1.18665944e-01 5.43353010e-01 1.45739553e+00\n",
      "    2.28192718e+00]\n",
      "   [1.11118561e-02 1.23701085e-01 6.35255112e-01 2.28192718e+00\n",
      "    5.13988442e+00]]\n",
      "\n",
      "  [[7.08253095e-03 1.57558991e-02 1.83911675e-02 1.90328406e-02\n",
      "    1.91821044e-02]\n",
      "   [1.57558991e-02 1.00068040e-01 1.89486037e-01 2.26671214e-01\n",
      "    2.36788686e-01]\n",
      "   [1.83911675e-02 1.89486037e-01 6.50981618e-01 1.10638836e+00\n",
      "    1.29919783e+00]\n",
      "   [1.90328406e-02 2.26671214e-01 1.10638836e+00 3.03061015e+00\n",
      "    4.77048773e+00]\n",
      "   [1.91821044e-02 2.36788686e-01 1.29919783e+00 4.77048773e+00\n",
      "    1.08051879e+01]]\n",
      "\n",
      "  [[8.22912768e-03 1.83733984e-02 2.14660468e-02 2.22197343e-02\n",
      "    2.23950895e-02]\n",
      "   [1.83733984e-02 1.18665944e-01 2.26671214e-01 2.71860642e-01\n",
      "    2.84176760e-01]\n",
      "   [2.14660468e-02 2.26671214e-01 7.92482206e-01 1.35514163e+00\n",
      "    1.59381085e+00]\n",
      "   [2.22197343e-02 2.71860642e-01 1.35514163e+00 3.74083084e+00\n",
      "    5.90040723e+00]\n",
      "   [2.23950895e-02 2.84176760e-01 1.59381085e+00 5.90040723e+00\n",
      "    1.33933307e+01]]\n",
      "\n",
      "  [[8.53750068e-03 1.90777907e-02 2.22936850e-02 2.30775633e-02\n",
      "    2.32599513e-02]\n",
      "   [1.90777907e-02 1.23701085e-01 2.36788686e-01 2.84176760e-01\n",
      "    2.97097653e-01]\n",
      "   [2.22936850e-02 2.36788686e-01 8.31487439e-01 1.42408288e+00\n",
      "    1.67558094e+00]\n",
      "   [2.30775633e-02 2.84176760e-01 1.42408288e+00 3.93912584e+00\n",
      "    6.21652500e+00]\n",
      "   [2.32599513e-02 2.97097653e-01 1.67558094e+00 6.21652500e+00\n",
      "    1.41190135e+01]]]\n",
      "\n",
      "\n",
      " [[[1.06349002e-03 2.17926628e-03 2.49697740e-03 2.57319591e-03\n",
      "    2.59086548e-03]\n",
      "   [2.17926628e-03 1.06656501e-02 1.83911675e-02 2.14660468e-02\n",
      "    2.22936850e-02]\n",
      "   [2.49697740e-03 1.83911675e-02 5.47090263e-02 8.92488509e-02\n",
      "    1.03763657e-01]\n",
      "   [2.57319591e-03 2.14660468e-02 8.92488509e-02 2.33285397e-01\n",
      "    3.63025500e-01]\n",
      "   [2.59086548e-03 2.22936850e-02 1.03763657e-01 3.63025500e-01\n",
      "    8.12552757e-01]]\n",
      "\n",
      "  [[7.08253095e-03 1.57558991e-02 1.83911675e-02 1.90328406e-02\n",
      "    1.91821044e-02]\n",
      "   [1.57558991e-02 1.00068040e-01 1.89486037e-01 2.26671214e-01\n",
      "    2.36788686e-01]\n",
      "   [1.83911675e-02 1.89486037e-01 6.50981618e-01 1.10638836e+00\n",
      "    1.29919783e+00]\n",
      "   [1.90328406e-02 2.26671214e-01 1.10638836e+00 3.03061015e+00\n",
      "    4.77048773e+00]\n",
      "   [1.91821044e-02 2.36788686e-01 1.29919783e+00 4.77048773e+00\n",
      "    1.08051879e+01]]\n",
      "\n",
      "  [[2.05833606e-02 4.66479740e-02 5.47090263e-02 5.66808156e-02\n",
      "    5.71399773e-02]\n",
      "   [4.66479740e-02 3.25345527e-01 6.50981618e-01 7.92482206e-01\n",
      "    8.31487439e-01]\n",
      "   [5.47090263e-02 6.50981618e-01 2.54512012e+00 4.56136513e+00\n",
      "    5.43463196e+00]\n",
      "   [5.66808156e-02 7.92482206e-01 4.56136513e+00 1.34710025e+01\n",
      "    2.16665114e+01]\n",
      "   [5.71399773e-02 8.31487439e-01 5.43463196e+00 2.16665114e+01\n",
      "    5.02604757e+01]]\n",
      "\n",
      "  [[3.33995846e-02 7.60140094e-02 8.92488509e-02 9.24897713e-02\n",
      "    9.32446671e-02]\n",
      "   [7.60140094e-02 5.43353010e-01 1.10638836e+00 1.35514163e+00\n",
      "    1.42408288e+00]\n",
      "   [8.92488509e-02 1.10638836e+00 4.56136513e+00 8.40954714e+00\n",
      "    1.01060413e+01]\n",
      "   [9.24897713e-02 1.35514163e+00 8.40954714e+00 2.60914005e+01\n",
      "    4.26676225e+01]\n",
      "   [9.32446671e-02 1.42408288e+00 1.01060413e+01 4.26676225e+01\n",
      "    1.00974278e+02]]\n",
      "\n",
      "  [[3.87839234e-02 8.83537411e-02 1.03763657e-01 1.07538176e-01\n",
      "    1.08417415e-01]\n",
      "   [8.83537411e-02 6.35255112e-01 1.29919783e+00 1.59381085e+00\n",
      "    1.67558094e+00]\n",
      "   [1.03763657e-01 1.29919783e+00 5.43463196e+00 1.01060413e+01\n",
      "    1.21780928e+01]\n",
      "   [1.07538176e-01 1.59381085e+00 1.01060413e+01 3.18799644e+01\n",
      "    5.24531246e+01]\n",
      "   [1.08417415e-01 1.67558094e+00 1.21780928e+01 5.24531246e+01\n",
      "    1.25094772e+02]]]\n",
      "\n",
      "\n",
      " [[[1.09385274e-03 2.24505588e-03 2.57319591e-03 2.65193320e-03\n",
      "    2.67018756e-03]\n",
      "   [2.24505588e-03 1.10277057e-02 1.90328406e-02 2.22197343e-02\n",
      "    2.30775633e-02]\n",
      "   [2.57319591e-03 1.90328406e-02 5.66808156e-02 9.24897713e-02\n",
      "    1.07538176e-01]\n",
      "   [2.65193320e-03 2.22197343e-02 9.24897713e-02 2.41823221e-01\n",
      "    3.76335485e-01]\n",
      "   [2.67018756e-03 2.30775633e-02 1.07538176e-01 3.76335485e-01\n",
      "    8.42398329e-01]]\n",
      "\n",
      "  [[8.22912768e-03 1.83733984e-02 2.14660468e-02 2.22197343e-02\n",
      "    2.23950895e-02]\n",
      "   [1.83733984e-02 1.18665944e-01 2.26671214e-01 2.71860642e-01\n",
      "    2.84176760e-01]\n",
      "   [2.14660468e-02 2.26671214e-01 7.92482206e-01 1.35514163e+00\n",
      "    1.59381085e+00]\n",
      "   [2.22197343e-02 2.71860642e-01 1.35514163e+00 3.74083084e+00\n",
      "    5.90040723e+00]\n",
      "   [2.23950895e-02 2.84176760e-01 1.59381085e+00 5.90040723e+00\n",
      "    1.33933307e+01]]\n",
      "\n",
      "  [[3.33995846e-02 7.60140094e-02 8.92488509e-02 9.24897713e-02\n",
      "    9.32446671e-02]\n",
      "   [7.60140094e-02 5.43353010e-01 1.10638836e+00 1.35514163e+00\n",
      "    1.42408288e+00]\n",
      "   [8.92488509e-02 1.10638836e+00 4.56136513e+00 8.40954714e+00\n",
      "    1.01060413e+01]\n",
      "   [9.24897713e-02 1.35514163e+00 8.40954714e+00 2.60914005e+01\n",
      "    4.26676225e+01]\n",
      "   [9.32446671e-02 1.42408288e+00 1.01060413e+01 4.26676225e+01\n",
      "    1.00974278e+02]]\n",
      "\n",
      "  [[8.68209717e-02 1.98460590e-01 2.33285397e-01 2.41823221e-01\n",
      "    2.43812457e-01]\n",
      "   [1.98460590e-01 1.45739553e+00 3.03061015e+00 3.74083084e+00\n",
      "    3.93912584e+00]\n",
      "   [2.33285397e-01 3.03061015e+00 1.34710025e+01 2.60914005e+01\n",
      "    3.18799644e+01]\n",
      "   [2.41823221e-01 3.74083084e+00 2.60914005e+01 9.02412705e+01\n",
      "    1.54465421e+02]\n",
      "   [2.43812457e-01 3.93912584e+00 3.18799644e+01 1.54465421e+02\n",
      "    3.89513207e+02]]\n",
      "\n",
      "  [[1.34934533e-01 3.08750379e-01 3.63025500e-01 3.76335485e-01\n",
      "    3.79436793e-01]\n",
      "   [3.08750379e-01 2.28192718e+00 4.77048773e+00 5.90040723e+00\n",
      "    6.21652500e+00]\n",
      "   [3.63025500e-01 4.77048773e+00 2.16665114e+01 4.26676225e+01\n",
      "    5.24531246e+01]\n",
      "   [3.76335485e-01 5.90040723e+00 4.26676225e+01 1.54465421e+02\n",
      "    2.70809198e+02]\n",
      "   [3.79436793e-01 6.21652500e+00 5.24531246e+01 2.70809198e+02\n",
      "    7.10497228e+02]]]\n",
      "\n",
      "\n",
      " [[[1.10088389e-03 2.26030454e-03 2.59086548e-03 2.67018756e-03\n",
      "    2.68857769e-03]\n",
      "   [2.26030454e-03 1.11118561e-02 1.91821044e-02 2.23950895e-02\n",
      "    2.32599513e-02]\n",
      "   [2.59086548e-03 1.91821044e-02 5.71399773e-02 9.32446671e-02\n",
      "    1.08417415e-01]\n",
      "   [2.67018756e-03 2.23950895e-02 9.32446671e-02 2.43812457e-01\n",
      "    3.79436793e-01]\n",
      "   [2.68857769e-03 2.32599513e-02 1.08417415e-01 3.79436793e-01\n",
      "    8.49352984e-01]]\n",
      "\n",
      "  [[8.53750068e-03 1.90777907e-02 2.22936850e-02 2.30775633e-02\n",
      "    2.32599513e-02]\n",
      "   [1.90777907e-02 1.23701085e-01 2.36788686e-01 2.84176760e-01\n",
      "    2.97097653e-01]\n",
      "   [2.22936850e-02 2.36788686e-01 8.31487439e-01 1.42408288e+00\n",
      "    1.67558094e+00]\n",
      "   [2.30775633e-02 2.84176760e-01 1.42408288e+00 3.93912584e+00\n",
      "    6.21652500e+00]\n",
      "   [2.32599513e-02 2.97097653e-01 1.67558094e+00 6.21652500e+00\n",
      "    1.41190135e+01]]\n",
      "\n",
      "  [[3.87839234e-02 8.83537411e-02 1.03763657e-01 1.07538176e-01\n",
      "    1.08417415e-01]\n",
      "   [8.83537411e-02 6.35255112e-01 1.29919783e+00 1.59381085e+00\n",
      "    1.67558094e+00]\n",
      "   [1.03763657e-01 1.29919783e+00 5.43463196e+00 1.01060413e+01\n",
      "    1.21780928e+01]\n",
      "   [1.07538176e-01 1.59381085e+00 1.01060413e+01 3.18799644e+01\n",
      "    5.24531246e+01]\n",
      "   [1.08417415e-01 1.67558094e+00 1.21780928e+01 5.24531246e+01\n",
      "    1.25094772e+02]]\n",
      "\n",
      "  [[1.34934533e-01 3.08750379e-01 3.63025500e-01 3.76335485e-01\n",
      "    3.79436793e-01]\n",
      "   [3.08750379e-01 2.28192718e+00 4.77048773e+00 5.90040723e+00\n",
      "    6.21652500e+00]\n",
      "   [3.63025500e-01 4.77048773e+00 2.16665114e+01 4.26676225e+01\n",
      "    5.24531246e+01]\n",
      "   [3.76335485e-01 5.90040723e+00 4.26676225e+01 1.54465421e+02\n",
      "    2.70809198e+02]\n",
      "   [3.79436793e-01 6.21652500e+00 5.24531246e+01 2.70809198e+02\n",
      "    7.10497228e+02]]\n",
      "\n",
      "  [[3.01635177e-01 6.90882838e-01 8.12552757e-01 8.42398329e-01\n",
      "    8.49352984e-01]\n",
      "   [6.90882838e-01 5.13988442e+00 1.08051879e+01 1.33933307e+01\n",
      "    1.41190135e+01]\n",
      "   [8.12552757e-01 1.08051879e+01 5.02604757e+01 1.00974278e+02\n",
      "    1.25094772e+02]\n",
      "   [8.42398329e-01 1.33933307e+01 1.00974278e+02 3.89513207e+02\n",
      "    7.10497228e+02]\n",
      "   [8.49352984e-01 1.41190135e+01 1.25094772e+02 7.10497228e+02\n",
      "    2.01636227e+03]]]]\n"
     ]
    }
   ],
   "source": [
    "N_tot = 5\n",
    "#----------------------------------------------------------------------\n",
    "#   Basis set: 6-31++G\n",
    "# Description: 6-31G + diffuse on all atoms\n",
    "#        Role: orbital\n",
    "#     Version: 1  (Data from Gaussian 09/GAMESS)\n",
    "#----------------------------------------------------------------------\n",
    "Alpha = np.array([38.421634, 5.77803, 1.241774, 0.297964, 0.086],dtype=float)\n",
    "\n",
    "\n",
    "S_matrix = calc_S(Alpha,N_tot)\n",
    "H_matrix = calc_H(Alpha,N_tot)\n",
    "Q_matrix = calc_Q(Alpha,N_tot)\n",
    "\n",
    "plt.title('Fig.1 S_matrix')\n",
    "plt.imshow(S_matrix,cmap='coolwarm_r')\n",
    "plt.colorbar()\n",
    "plt.savefig('S_matrix.png',dpi=400,format='png')\n",
    "\n",
    "plt.show()\n",
    "plt.title('Fig.2 H_matrix')\n",
    "plt.imshow(H_matrix,cmap='coolwarm_r')\n",
    "plt.colorbar()\n",
    "plt.savefig('H_matrix.png',dpi=400,format='png')\n",
    "\n",
    "plt.show()\n",
    "print(Q_matrix)"
   ]
  },
  {
   "cell_type": "code",
   "execution_count": 111,
   "id": "7b8205ad",
   "metadata": {},
   "outputs": [
    {
     "name": "stdout",
     "output_type": "stream",
     "text": [
      "[1e-10, 0.0, 0.0, 0.0, 1e-13]\n",
      "[[0. 0. 0. 0. 0.]\n",
      " [0. 0. 0. 0. 0.]\n",
      " [0. 0. 0. 0. 0.]\n",
      " [0. 0. 0. 0. 0.]\n",
      " [0. 0. 0. 0. 0.]]\n"
     ]
    }
   ],
   "source": [
    "#Initialize Matrix C and F\n",
    "#C = np.ones([N_tot,1])\n",
    "Cg = [0.0000000001,0.0E0,0.0E0,0.0E0,0.0000000000001]\n",
    "F_matrix = np.zeros([N_tot,N_tot])\n",
    "print(Cg)\n",
    "print(F_matrix)"
   ]
  },
  {
   "cell_type": "markdown",
   "id": "fc01355c",
   "metadata": {},
   "source": [
    "$\\begin{aligned}\n",
    "Calculate F_{pq} \\\\\n",
    "F_{pq} = h_{pq} + Q_{pqrs} C_r C_s\n",
    "\\end{aligned}$"
   ]
  },
  {
   "cell_type": "code",
   "execution_count": 112,
   "id": "b1e7fbc6",
   "metadata": {},
   "outputs": [],
   "source": [
    "#Calculate F Matrix to get the effective H_matrix like H atom calculation(HC = ESC)\n",
    "def calc_F(H,Q,S,Cg):\n",
    "    temp = np.einsum('pqrs, s, r ->pq', Q, Cg, Cg)\n",
    "    F = H + temp\n",
    "    return F"
   ]
  },
  {
   "cell_type": "markdown",
   "id": "8c642905",
   "metadata": {},
   "source": [
    "# Generalized Eigenvalue Problem\n",
    "$\\begin{aligned}\n",
    "& V^{\\dagger}SV = I \\\\\n",
    "& U^{\\dagger}SU = s \\\\\n",
    "& V = Us^{-1/2} \\\\\n",
    "& F'=V^{\\dagger}FV \\\\\n",
    "& F'C'=E'C' \\\\\n",
    "& C=VC' \\\\\n",
    "\\end{aligned}$"
   ]
  },
  {
   "cell_type": "code",
   "execution_count": 113,
   "id": "d240f9d5",
   "metadata": {},
   "outputs": [
    {
     "name": "stdout",
     "output_type": "stream",
     "text": [
      "-2.4331994145336067\n",
      "-2.8227662448837747\n",
      "-2.8528919574833034\n",
      "-2.8554393504943194\n",
      "-2.855658612671462\n",
      "-2.855677439030108\n",
      "-2.855679057064391\n",
      "-2.855679196090148\n",
      "-2.8556792080365465\n",
      "-2.855679209063066\n",
      "-2.8556792091512757\n",
      "-2.8556792091588523\n",
      "-2.855679209159506\n",
      "-2.855679209159564\n",
      "-2.8556792091595673\n"
     ]
    }
   ],
   "source": [
    "#Iteration 15 times\n",
    "E_list = [0]#Store energy per cycle\n",
    "for i in  range(1,16):\n",
    "    #Normalize the coefficients\n",
    "    Cgt = np.transpose(Cg)\n",
    "    c = np.dot(Cgt,np.dot(S_matrix,Cg))\n",
    "    Cg = Cg/ np.sqrt(c)\n",
    "    Cgt = Cgt/ np.sqrt(c)\n",
    "    Cg = Cg.reshape(N_tot)\n",
    "    F_matrix = calc_F(H_matrix,Q_matrix,S_matrix,Cg)\n",
    "    #Calculate Generalized Eigenvalue Problem\n",
    "    ## Step 1: Calculate U and s.\n",
    "    small_S, U = np.linalg.eigh(S_matrix)\n",
    "    ## Step 2: Calculate s^{-1/2}.\n",
    "    half_S = np.zeros((N_tot,N_tot))\n",
    "    for i in range(N_tot):\n",
    "        half_S[i,i] = 1.0E0/np.sqrt(np.abs(small_S[i]))\n",
    "    #print(half_S[i,i])\n",
    "    ## Step 3: Calculate V = Us^{-1/2}.\n",
    "    V = np.dot(U,half_S)\n",
    "    ## Step 4: Calculate F' = V^d F V.\n",
    "    Vd = np.transpose(V)\n",
    "    tmp = np.dot(F_matrix,V)\n",
    "    F_prime = np.dot(Vd,tmp)\n",
    "    ### Step 5: Calculate the eigenvalue problem.\n",
    "    E_prime, C_prime = np.linalg.eigh(F_prime)\n",
    "    ### Step 6: Obtain the coefficients Matrix C.\n",
    "    C = np.dot(V,C_prime)\n",
    "    Cg = np.dot(V,C_prime[:,0])\n",
    "    Cg = Cg.reshape(N_tot,1)\n",
    "    Cgt = np.transpose(Cg)\n",
    "    c = np.dot(np.dot(Cgt,S_matrix),Cg)\n",
    "    Cg = Cg/ np.sqrt(c)\n",
    "    Cgt = Cgt/ np.sqrt(c)\n",
    "    ###Calculate ground energy\n",
    "    E1 = float(2 * np.dot(Cgt,np.dot(H_matrix,Cg)))\n",
    "    Cg = Cg.reshape(N_tot,)\n",
    "    E2 = float(np.einsum('pqrs, s, r,q,p ->',Q_matrix,Cg,Cg,Cg,Cg))\n",
    "    E = E1 + E2\n",
    "    E_list.append(E)\n",
    "    print(E)"
   ]
  },
  {
   "cell_type": "code",
   "execution_count": 116,
   "id": "1beff80f",
   "metadata": {},
   "outputs": [
    {
     "data": {
      "image/png": "[encoded data removed]",
      "text/plain": [
       "<Figure size 432x288 with 1 Axes>"
      ]
     },
     "metadata": {
      "needs_background": "light"
     },
     "output_type": "display_data"
    }
   ],
   "source": [
    "plt.plot(E_list,'s-',lw=3)\n",
    "plt.title(\"Fig.8 Energy per cycle\")\n",
    "\n",
    "plt.xlabel(r\"$N_{\\rm{cycle}}$\",fontsize=24)\n",
    "plt.ylabel(r\"$E$/a.u.\",fontsize=24)\n",
    "figname = 'ene_per_cycle_He_Var.png'\n",
    "plt.axis([1,15,-2.43,-2.87])\n",
    "plt.tight_layout()\n",
    "plt.savefig(figname,dpi=400,format = 'png')\n",
    "plt.show()"
   ]
  },
  {
   "cell_type": "code",
   "execution_count": 9,
   "id": "77cf53d0",
   "metadata": {},
   "outputs": [
    {
     "name": "stdout",
     "output_type": "stream",
     "text": [
      "[-0.91686687 -0.11437956  0.92525534  7.82219328 61.15763399]\n",
      "[[ 1.38020739e+01 -8.42065704e-01  4.26454811e-02 -1.84714129e-03\n",
      "   3.83631051e-05]\n",
      " [-2.94724115e+00 -3.66818585e+00  4.41602018e-01 -2.66360767e-02\n",
      "   6.32720589e-04]\n",
      " [ 5.84037437e-01  1.33415241e+00  1.13016634e+00 -1.62754503e-01\n",
      "   5.57125202e-03]\n",
      " [-1.05893592e-01 -2.95974746e-01 -4.85973299e-01 -3.78385040e-01\n",
      "   3.28658602e-02]\n",
      " [ 1.52047634e-02  4.52496328e-02  9.14614425e-02  1.30065213e-01\n",
      "   1.02714784e-01]]\n",
      "[[-1.31695342e-02 -4.21407539e-03  2.07946736e-02  5.21065169e-02\n",
      "  -9.98329253e-01]\n",
      " [ 7.66314957e-02  3.65998097e-02  2.90398121e-02  9.94639423e-01\n",
      "   5.13534324e-02]\n",
      " [-3.33135398e-01 -8.11103633e-02  9.39069545e-01 -2.09203412e-05\n",
      "   2.42961906e-02]\n",
      " [ 6.89581137e-01  6.52922390e-01  3.01281960e-01 -8.54322127e-02\n",
      "  -1.00362095e-02]\n",
      " [-6.38320327e-01  7.52167639e-01 -1.61560643e-01  2.60512071e-02\n",
      "   3.23994021e-03]]\n"
     ]
    }
   ],
   "source": [
    "print(E_prime)\n",
    "print(V)\n",
    "print(C_prime)"
   ]
  },
  {
   "cell_type": "code",
   "execution_count": 24,
   "id": "b31803a5",
   "metadata": {},
   "outputs": [
    {
     "data": {
      "image/png": "[encoded data removed]",
      "text/plain": [
       "<Figure size 432x288 with 2 Axes>"
      ]
     },
     "metadata": {
      "needs_background": "light"
     },
     "output_type": "display_data"
    },
    {
     "data": {
      "image/png": "[encoded data removed]",
      "text/plain": [
       "<Figure size 432x288 with 2 Axes>"
      ]
     },
     "metadata": {
      "needs_background": "light"
     },
     "output_type": "display_data"
    }
   ],
   "source": [
    "plt.title('Fig.3 C_matrix')\n",
    "plt.imshow(C,cmap='coolwarm_r')\n",
    "plt.colorbar()\n",
    "plt.savefig('C_matrix.png',dpi=400,format='png')\n",
    "\n",
    "plt.show()\n",
    "plt.title('Fig.4 F_matrix')\n",
    "plt.imshow(F_matrix,cmap='coolwarm_r')\n",
    "plt.colorbar()\n",
    "plt.savefig('F_matrix.png',dpi=400,format='png')\n",
    "\n",
    "plt.show()"
   ]
  },
  {
   "cell_type": "code",
   "execution_count": 11,
   "id": "3cfde4a8",
   "metadata": {},
   "outputs": [
    {
     "name": "stdout",
     "output_type": "stream",
     "text": [
      "Ground Energy is  -2.8556792091595673  a.u.\n",
      "[-0.2618006  -0.40816965 -0.3977405  -0.14129764 -0.00307615]\n"
     ]
    }
   ],
   "source": [
    "print('Ground Energy is ',E,' a.u.')\n",
    "print(Cg)"
   ]
  },
  {
   "cell_type": "code",
   "execution_count": 12,
   "id": "a3920aee",
   "metadata": {},
   "outputs": [
    {
     "name": "stdout",
     "output_type": "stream",
     "text": [
      "[[-2.61800600e-01 -9.36185993e-02  3.02040556e-01 -1.18215838e-01\n",
      "  -1.38212023e+01]\n",
      " [-4.08169653e-01 -1.74568886e-01  2.38757469e-01 -3.79980990e+00\n",
      "   2.76494174e+00]\n",
      " [-3.97740498e-01 -1.47375199e-01  1.06225810e+00  1.37145872e+00\n",
      "  -4.85438126e-01]\n",
      " [-1.41297642e-01 -1.93304333e-01 -5.86470215e-01 -2.66713264e-01\n",
      "   8.26140867e-02]\n",
      " [-3.07615406e-03  1.56354809e-01  1.10110510e-01  3.73615077e-02\n",
      "  -1.16060435e-02]]\n"
     ]
    }
   ],
   "source": [
    "###Construct the wavefunctions.\n",
    "interval = 0.001\n",
    "x = np.arange(0.0,1.0E0+interval,interval)\n",
    "def basis_f(x,n):\n",
    "    y = np.exp(-Alpha[n]*x)\n",
    "    return y\n",
    "\n",
    "\n",
    "y_tot = np.zeros((len(x),N_tot))\n",
    "for j in range(N_tot):\n",
    "    for i in range(N_tot):\n",
    "        y_tot[:,j] += basis_f(x,i)*C[i,j]\n",
    "\n",
    "print(C)"
   ]
  },
  {
   "cell_type": "code",
   "execution_count": 29,
   "id": "55c605ee",
   "metadata": {},
   "outputs": [
    {
     "data": {
      "image/png": "[encoded data removed]",
      "text/plain": [
       "<Figure size 432x288 with 1 Axes>"
      ]
     },
     "metadata": {
      "needs_background": "light"
     },
     "output_type": "display_data"
    }
   ],
   "source": [
    "plt.title('Fig.5 \\n wavefunction of the ground state')\n",
    "plt.plot(x,-(y_tot[:,0]),'-',lw=5,label=\"Variational\")\n",
    "#plt.plot(x,np.exp(-x)/2,'--',lw=5,label=\"Analytical\")\n",
    "plt.legend(loc='best')\n",
    "plt.xlabel(r\"$x/a_0$\",fontsize=24)\n",
    "plt.ylabel(r\"$\\psi(x)$\",fontsize=24)\n",
    "figname = \"He-ground wavefunction.png\"\n",
    "plt.tight_layout()\n",
    "plt.savefig(figname,dpi=400,format='png')\n",
    "plt.show()"
   ]
  },
  {
   "cell_type": "code",
   "execution_count": null,
   "id": "d00cd270",
   "metadata": {},
   "outputs": [],
   "source": []
  },
  {
   "cell_type": "code",
   "execution_count": null,
   "id": "003fb047",
   "metadata": {},
   "outputs": [],
   "source": []
  }
 ],
 "metadata": {
  "kernelspec": {
   "display_name": "Python 3 (ipykernel)",
   "language": "python",
   "name": "python3"
  },
  "language_info": {
   "codemirror_mode": {
    "name": "ipython",
    "version": 3
   },
   "file_extension": ".py",
   "mimetype": "text/x-python",
   "name": "python",
   "nbconvert_exporter": "python",
   "pygments_lexer": "ipython3",
   "version": "3.9.7"
  }
 },
 "nbformat": 4,
 "nbformat_minor": 5
}
